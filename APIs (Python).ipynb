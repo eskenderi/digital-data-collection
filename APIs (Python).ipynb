{
 "cells": [
  {
   "cell_type": "markdown",
   "metadata": {},
   "source": [
    "## Simple REST API\n",
    "\n",
    "Make a request to documented address and get a response from same address.\n",
    "\n",
    "Today, we work on the [UK Police Data API](https://data.police.uk/docs/)."
   ]
  },
  {
   "cell_type": "code",
   "execution_count": null,
   "metadata": {},
   "outputs": [],
   "source": [
    "import requests"
   ]
  },
  {
   "cell_type": "code",
   "execution_count": null,
   "metadata": {},
   "outputs": [],
   "source": [
    "parameters = {\n",
    "    \"lat\": 52.629729,\n",
    "    \"lng\": -1.131592,\n",
    "    \"date\": \"2024-01\"\n",
    "}\n",
    "data = requests.get(\"https://data.police.uk/api/crimes-street/all-crime\", params=parameters).json()\n",
    "\n",
    "print( data )"
   ]
  },
  {
   "cell_type": "markdown",
   "metadata": {},
   "source": [
    "### Tasks\n",
    "\n",
    "* Calculate how many crimes happened this year from the API above at London.\n",
    "* At London, how many stop and searches took place?\n",
    "* For crimes at Oxford, what outcomes there are?\n",
    "* For crimes in London, identify the neighbourhood teams and print out for each their communication means - which communication mean is most common?\n",
    "\n",
    "\n",
    "* Using [Cats as API](https://cataas.com/), print URLs for ten black cats and ten orange cats"
   ]
  },
  {
   "cell_type": "markdown",
   "metadata": {},
   "source": []
  },
  {
   "cell_type": "code",
   "execution_count": null,
   "metadata": {},
   "outputs": [],
   "source": []
  },
  {
   "cell_type": "markdown",
   "metadata": {},
   "source": [
    "# Simple API with authentication\n",
    "\n",
    "We use [Abstract API](https://docs.abstractapi.com/holidays) to get holidays per country.\n",
    "The API uses **API key** for authentication."
   ]
  },
  {
   "cell_type": "code",
   "execution_count": null,
   "metadata": {},
   "outputs": [],
   "source": [
    "parameters = {\n",
    "    \"api_key\": \"e348775a263d4ecdae62c3bfc35f7e3d\",\n",
    "    \"country\": \"FI\",\n",
    "    \"year\": 2030,\n",
    "    \"month\": 12,\n",
    "    \"day\": 25\n",
    "}\n",
    "data = requests.get(\"https://holidays.abstractapi.com/v1/\", params=parameters).json()\n",
    "\n",
    "print( data )"
   ]
  },
  {
   "cell_type": "markdown",
   "metadata": {},
   "source": [
    "### Tasks\n",
    "\n",
    "* How many holidays Finland has in July of current year?\n",
    "* How many holidays United States has in July of current year?\n",
    "* How many holidays Germany has in July of current year?"
   ]
  },
  {
   "cell_type": "code",
   "execution_count": null,
   "metadata": {},
   "outputs": [],
   "source": []
  },
  {
   "cell_type": "markdown",
   "metadata": {},
   "source": [
    "### University of Helsinki buildings\n",
    "\n",
    "Use the University of [Helsinki API gateway](https://api.helsinki.fi/portal/user/login) to create your own application, request access to the building API and then calculating how many buildings university has."
   ]
  },
  {
   "cell_type": "code",
   "execution_count": null,
   "metadata": {},
   "outputs": [],
   "source": [
    "header = {\n",
    "    \"X-Api-Key\": \"92b9dae2-4e6b-40f5-acaf-3a799aab907b\"\n",
    "}\n",
    "\n",
    "data = requests.get(\"https://gw.api.helsinki.fi/building/v1/building/list\", headers = header )\n",
    "\n",
    "print( data.text )"
   ]
  },
  {
   "cell_type": "markdown",
   "metadata": {},
   "source": [
    "## OAuth\n",
    "\n",
    "For OAuth on its simples form, we use the [OAuth Playground](https://www.oauth.com/playground/) to mimic a full OAuth flow.\n",
    "\n",
    "1. Use Authorization Code -flow (for simplicity), you need to register a client.\n",
    "1. Store client id, client secret, user login and user password somewhere.\n",
    "1. Open the link provided, the username and password should be the same."
   ]
  },
  {
   "cell_type": "code",
   "execution_count": null,
   "metadata": {},
   "outputs": [],
   "source": [
    "## this authenticates you as the correct developer\n",
    "\n",
    "client_id = \"4WE_RrS9uC8G7IK3dXY8nMh8\"\n",
    "client_secret = \"UFW8nQTIFxPmQ_1qNx0k192DtENOy2gbiTXAHk_KP8TpNUNn\""
   ]
  },
  {
   "cell_type": "code",
   "execution_count": null,
   "metadata": {},
   "outputs": [],
   "source": [
    "!pip install requests-oauth2client"
   ]
  },
  {
   "cell_type": "markdown",
   "metadata": {},
   "source": []
  },
  {
   "cell_type": "code",
   "execution_count": null,
   "metadata": {},
   "outputs": [],
   "source": [
    "from requests_oauth2client import OAuth2Client, OAuth2ClientCredentialsAuth\n",
    "\n",
    "oauth2client = OAuth2Client(\n",
    "    token_endpoint=\"https://www.example.com/token\",\n",
    "    authorization_endpoint=\"https://www.oauth.com/playground/auth-dialog.html\",\n",
    "    redirect_uri=\"https://www.oauth.com/playground/authorization-code.html\",\n",
    "    client_id=client_id,\n",
    "    client_secret=client_secret\n",
    ")\n",
    "\n",
    "oauth2client.authorization_request(scope=\"photo+offline_access\")"
   ]
  },
  {
   "cell_type": "markdown",
   "metadata": {},
   "source": [
    "### Task\n",
    "\n",
    "* Use OAuth2 API from some real web service (such as X) and collect data."
   ]
  }
 ],
 "metadata": {
  "kernelspec": {
   "display_name": ".venv",
   "language": "python",
   "name": "python3"
  },
  "language_info": {
   "codemirror_mode": {
    "name": "ipython",
    "version": 3
   },
   "file_extension": ".py",
   "mimetype": "text/x-python",
   "name": "python",
   "nbconvert_exporter": "python",
   "pygments_lexer": "ipython3",
   "version": "3.12.5"
  }
 },
 "nbformat": 4,
 "nbformat_minor": 2
}
