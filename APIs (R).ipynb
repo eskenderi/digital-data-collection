{
 "cells": [
  {
   "cell_type": "markdown",
   "metadata": {},
   "source": [
    "## Simple REST API\n",
    "\n",
    "Make a request to documented address and get a response from same address.\n",
    "\n",
    "Today, we work on the [UK Police Data API](https://data.police.uk/docs/)."
   ]
  },
  {
   "cell_type": "code",
   "execution_count": null,
   "metadata": {
    "vscode": {
     "languageId": "r"
    }
   },
   "outputs": [],
   "source": [
    "library(\"httr2\")"
   ]
  },
  {
   "cell_type": "code",
   "execution_count": null,
   "metadata": {
    "vscode": {
     "languageId": "r"
    }
   },
   "outputs": [],
   "source": [
    "parameters <- list(\n",
    "    lat = 52.629729,\n",
    "    lng = -1.131592,\n",
    "    date = \"2024-01\"\n",
    ")\n",
    "\n",
    "r = request(\"https://data.police.uk/api/crimes-street/all-crime\")\n",
    "r <- req_url_query(r, !!! parameters)\n",
    "response = req_perform( r ) \n",
    "\n",
    "print( resp_body_json(response) )"
   ]
  },
  {
   "cell_type": "markdown",
   "metadata": {},
   "source": [
    "### Tasks\n",
    "\n",
    "* Calculate how many crimes happened this year from the API above at London.\n",
    "* At London, how many stop and searches took place?\n",
    "* For crimes at Oxford, what outcomes there are?\n",
    "* For crimes in London, identify the neighbourhood teams and print out for each their communication means - which communication mean is most common?\n",
    "\n",
    "\n",
    "* Using [Cats as API](https://cataas.com/), print URLs for ten black cats and ten orange cats"
   ]
  },
  {
   "cell_type": "markdown",
   "metadata": {},
   "source": []
  },
  {
   "cell_type": "code",
   "execution_count": null,
   "metadata": {
    "vscode": {
     "languageId": "r"
    }
   },
   "outputs": [],
   "source": []
  },
  {
   "cell_type": "markdown",
   "metadata": {},
   "source": [
    "# Simple API with authentication\n",
    "\n",
    "We use [Abstract API](https://docs.abstractapi.com/holidays) to get holidays per country.\n",
    "The API uses **API key** for authentication."
   ]
  },
  {
   "cell_type": "code",
   "execution_count": null,
   "metadata": {
    "vscode": {
     "languageId": "r"
    }
   },
   "outputs": [],
   "source": [
    "params <- list(\n",
    "  api_key = \"THIS IS A SECRET\",\n",
    "  country = \"FI\",\n",
    "  year = 2030,\n",
    "  month = 12,\n",
    "  day = 25\n",
    ")\n",
    "\n",
    "r <- request(\"https://holidays.abstractapi.com/v1/\")\n",
    "r <- req_url_query(r, !!! parameters)\n",
    "response = req_perform( r ) \n",
    "\n",
    "print( resp_body_json(response) )"
   ]
  },
  {
   "cell_type": "markdown",
   "metadata": {},
   "source": [
    "### Tasks\n",
    "\n",
    "* How many holidays Finland has in July of current year?\n",
    "* How many holidays United States has in July of current year?\n",
    "* How many holidays Germany has in July of current year?"
   ]
  },
  {
   "cell_type": "code",
   "execution_count": null,
   "metadata": {
    "vscode": {
     "languageId": "r"
    }
   },
   "outputs": [],
   "source": []
  },
  {
   "cell_type": "markdown",
   "metadata": {},
   "source": [
    "### University of Helsinki buildings\n",
    "\n",
    "Use the University of [Helsinki API gateway](https://api.helsinki.fi/portal/user/login) to create your own application, request access to the building API and then calculating how many buildings university has."
   ]
  },
  {
   "cell_type": "code",
   "execution_count": null,
   "metadata": {
    "vscode": {
     "languageId": "r"
    }
   },
   "outputs": [],
   "source": [
    "header <- list(\n",
    "  \"X-Api-Key\" = \"THIS IS A SECRET\"\n",
    ")\n",
    "\n",
    "r <- request(\"https://gw.api.helsinki.fi/building/v1/building/list\")\n",
    "r <- req_headers(r, !!! parameters)\n",
    "response = req_perform( r )\n",
    "\n",
    "print( data.text )"
   ]
  },
  {
   "cell_type": "markdown",
   "metadata": {},
   "source": [
    "## OAuth\n",
    "\n",
    "For OAuth on its simples form, we use the [OAuth Playground](https://www.oauth.com/playground/) to mimic a full OAuth flow.\n",
    "\n",
    "1. Use Authorization Code -flow (for simplicity), you need to register a client.\n",
    "1. Store client id, client secret, user login and user password somewhere.\n",
    "1. Open the link provided, the username and password should be the same."
   ]
  },
  {
   "cell_type": "code",
   "execution_count": null,
   "metadata": {
    "vscode": {
     "languageId": "r"
    }
   },
   "outputs": [],
   "source": [
    "## this authenticates you as the correct developer\n",
    "\n",
    "client_id <- \"your_client_id\"\n",
    "client_secret <- \"your_client_secret\"\n"
   ]
  },
  {
   "cell_type": "code",
   "execution_count": null,
   "metadata": {
    "vscode": {
     "languageId": "r"
    }
   },
   "outputs": [],
   "source": [
    "oauth_client <- oauth_client(\n",
    "  id = client_id,\n",
    "  secret = client_secret,\n",
    "  token_url = \"https://www.example.com/token\",\n",
    ")\n",
    "\n",
    "oauth_flow_auth_code( oauth_client , auth_url = \"https://www.oauth.com/playground/auth-dialog.html\", redirect_uri=\"https://www.oauth.com/playground/authorization-code.html\" )"
   ]
  },
  {
   "cell_type": "markdown",
   "metadata": {},
   "source": [
    "### Task\n",
    "\n",
    "* Use OAuth2 API from some real web service (such as X) and collect data."
   ]
  },
  {
   "cell_type": "markdown",
   "metadata": {},
   "source": []
  }
 ],
 "metadata": {
  "kernelspec": {
   "display_name": "R",
   "language": "R",
   "name": "ir"
  },
  "language_info": {
   "codemirror_mode": "r",
   "file_extension": ".r",
   "mimetype": "text/x-r-source",
   "name": "R",
   "pygments_lexer": "r",
   "version": "4.4.1"
  }
 },
 "nbformat": 4,
 "nbformat_minor": 2
}
