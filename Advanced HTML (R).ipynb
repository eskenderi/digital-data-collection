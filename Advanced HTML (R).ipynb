{
 "cells": [
  {
   "cell_type": "markdown",
   "metadata": {},
   "source": [
    "## Advanced HTML data collection\n",
    "\n",
    "Increasingly, websites cannot be analysed just through web scraping -- they include components which are rendered only on the browser.\n",
    "This is both a challenge and an opportunity, as often such webpages may pull content from internal grey APIs as well."
   ]
  },
  {
   "cell_type": "markdown",
   "metadata": {},
   "source": [
    "## Selenium\n",
    "\n",
    "[Selenium](https://www.selenium.dev/) is a tool which allows executing content on the website, rendering it like a website would do.\n",
    "It is possible to get the full _rendered_ HTML and use other tools on that, such as BeautifulSoup; or then use its inbuild tools to collect data and navigate on the website.\n",
    "There is a package making Selenium available to R: [RSelenium](https://docs.ropensci.org/RSelenium/articles/basics.html).\n",
    "You *must* install Java to make this operational."
   ]
  },
  {
   "cell_type": "code",
   "execution_count": null,
   "metadata": {
    "vscode": {
     "languageId": "r"
    }
   },
   "outputs": [],
   "source": [
    "install.packages(\"RSelenium\")"
   ]
  },
  {
   "cell_type": "markdown",
   "metadata": {},
   "source": [
    "### Opening a new web browser\n",
    "\n",
    "Selenium is aimed for automated testing of different browsers.\n",
    "Therefore, you can open different browsers through [webdrivers](https://www.rdocumentation.org/packages/RSelenium/versions/1.7.9/topics/rsDriver).\n",
    "Variable `page_source` includes HTML for the full website, and [`findElements` function](https://www.rdocumentation.org/packages/seleniumPipes/versions/0.3.7/topics/elementClick) can be used to identify elements through tag name, class name, id or xpath.\n",
    "\n",
    "It is also possible to [interact](https://rpubs.com/johndharrison/seleniumPipes-basic) with the webpage, such as click elements, press keys or [produce action chains](https://rpubs.com/johndharrison/seleniumPipes-basic)."
   ]
  },
  {
   "cell_type": "code",
   "execution_count": null,
   "metadata": {
    "vscode": {
     "languageId": "r"
    }
   },
   "outputs": [],
   "source": [
    "library(RSelenium)\n",
    "\n",
    "selenium <- rsDriver(\n",
    "    browser = c(\"firefox\")\n",
    ")\n",
    "\n",
    "driver  <- selenium$client\n",
    "\n",
    "driver$navigate(\"http://www.helsinki.fi\")"
   ]
  },
  {
   "cell_type": "code",
   "execution_count": null,
   "metadata": {
    "vscode": {
     "languageId": "r"
    }
   },
   "outputs": [],
   "source": [
    "library(rvest)\n",
    "\n",
    "html_content <- driver$getPageSource()[[1]]\n",
    "\n",
    "parsed <- read_html(html_content)\n",
    "\n",
    "images <- html_nodes(parsed, \"img\")\n",
    "\n",
    "for (image in images) {\n",
    "  print(image)\n",
    "}"
   ]
  },
  {
   "cell_type": "code",
   "execution_count": null,
   "metadata": {
    "vscode": {
     "languageId": "r"
    }
   },
   "outputs": [],
   "source": [
    "for( image in driver$findElements( using = \"tag name\", 'img') ) {\n",
    "    print( image$getElementAttribute(\"src\") )\n",
    "}"
   ]
  },
  {
   "cell_type": "code",
   "execution_count": null,
   "metadata": {
    "vscode": {
     "languageId": "r"
    }
   },
   "outputs": [],
   "source": [
    "for( link in driver$findElements( using = \"tag name\", 'a') ) {\n",
    "    print( link$getElementAttribute(\"href\") )\n",
    "    print( link$getElementText() )\n",
    "\n",
    "    ## this allows you to get the HTML where the link is located, might be useful some days\n",
    "    outerHTML <- driver$executeScript(\"return arguments[0].outerHTML;\", list(link))\n",
    "    outerHTML <- outerHTML[[1]]\n",
    "    print( outerHTML )\n",
    "}"
   ]
  },
  {
   "cell_type": "code",
   "execution_count": null,
   "metadata": {
    "vscode": {
     "languageId": "r"
    }
   },
   "outputs": [],
   "source": [
    "button <- driver$findElement( using = \"xpath\" , \"/html/body/div[2]/div/hy-main/div/div/div/article/hy-hero-carousel/div/div/div[1]/div[1]/div/div[1]/hy-cta-button/span/a/span[1]\")\n",
    "button$clickElement() ## this is not according to documentation the correct!"
   ]
  },
  {
   "cell_type": "code",
   "execution_count": null,
   "metadata": {
    "vscode": {
     "languageId": "r"
    }
   },
   "outputs": [],
   "source": [
    "## stop the execution\n",
    "driver$close()"
   ]
  },
  {
   "cell_type": "markdown",
   "metadata": {},
   "source": [
    "### Tasks\n",
    "\n",
    "1. Find all links on Yle.fi main page. What amount of them starts with http?\n",
    "1. Find all images on Yle.fi and print their URLs\n",
    "1. Go through all Finnish university web frontpages. Which of them have have a link to (a) Facebook, (b) TikTok or (c) X?\n",
    "1. Go through all Finnish university web frontpages. Collect and download all images from them.\n",
    "1. Extract the text of a single article on Yle.fi\n",
    "1. Extract the text of a single article on HS.fi\n",
    "1. Extract the text of a single news article on Helsinki.fi\n",
    "1. Extract the text of a single news article on Aamulehti.fi\n",
    "1. Extract the text of a single news article on BBC.com\n",
    "1. Extract the text of a single news article on New York Times"
   ]
  },
  {
   "cell_type": "markdown",
   "metadata": {},
   "source": [
    "## Grey APIs\n",
    "\n",
    "Websites which allow unlimited scrolling often have some kind of API which allow website to \"pull\" new content.\n",
    "It is possible to use these APIs directly, but sometimes they require tricks -- such as setting cookies, executing the command on a web broser as logged in user, using a spesific application key etc."
   ]
  },
  {
   "cell_type": "code",
   "execution_count": null,
   "metadata": {
    "vscode": {
     "languageId": "r"
    }
   },
   "outputs": [],
   "source": [
    "library(\"httr2\")\n",
    "\n",
    "url <- \"https://ca.api.yle.fi/v1/graphql?app_id=ukko_prod&app_key=12150df3a0c8844d37c520235bf7c5d4&query=query+tuoreimmatMostRecentUutisetAndUrheiluQuery+($limit:Int!$exclude:Exclude!$publishedBefore:String+$fields:ArticleFields+%3DHEADLINE)%7Btuoreimmat:+mostRecentUutisetAndUrheiluMainNews+(+limit:$limit+exclude:$exclude+publishedBefore:$publishedBefore+fields:$fields+)%7Bitems%7Bid+title+fullUrl+lead+publisher%7Bname%7Dsubjects%7B...conceptFields%7DdatePublished+format+headline%7Bfull+short+image%7B...on+ImageBlock%7B...listItemImageBlockFields%7D%7Dvideo%7B...on+VideoBlock%7Bid+image%7B...listItemImageBlockFields%7D%7D%7Daudio%7B...on+AudioBlock%7Bid+image%7B...listItemImageBlockFields%7D%7D%7D%7DmainMedia%7Btype:__typename...on+ImageBlock%7B...listItemImageBlockFields%7D...on+AudioBlock%7Bid+image%7B...listItemImageBlockFields%7D%7D...on+VideoBlock%7Bid+offsetSeconds+image%7B...listItemImageBlockFields%7D%7D%7Dtopic%7Bid+isHidden+isLocked+acceptedCommentsCount%7D%7D%7D%7Dfragment+conceptFields+on+Concept%7Bid+alternativeIds+title%7Bfi+sv+se+en+uk+ru%7D%7Dfragment+listItemImageBlockFields+on+ImageBlock%7Bid+alt+version+blurhash+crops%7Baspect+coordinates%7Bheight+width+x+y%7D%7D%7D&variables=%7B%22limit%22:21,%22exclude%22:%7B%22properties%22:[%22importance:low%22,%22automaticListHint:never%22,%22automaticListHint:no-recently%22],%22journalisticStyle%22:[%22non_journalistic_content%22],%22coverage%22:%22LOCAL%22%7D,%22publishedBefore%22:%222024-08-22T03:15:46%2B0300%22%7D\"\n",
    "\n",
    "r = request(url)\n",
    "response = req_perform( r ) \n",
    "data <- resp_body_json(response)\n",
    "\n",
    "print( data )"
   ]
  },
  {
   "cell_type": "markdown",
   "metadata": {},
   "source": [
    "### Tasks\n",
    "\n",
    "* Collect Tiktok vidoes on cats."
   ]
  },
  {
   "cell_type": "markdown",
   "metadata": {},
   "source": [
    "## Tricks of the trade\n",
    "\n",
    "Sometimes websites try to block data collection.\n",
    "There are some techniques you can use:\n",
    "\n",
    "* request headers: ensure your requests looks like it is a real web browser\n",
    "* cookies: collect and use the cookies provided by the services and sent them back to them\n",
    "* wait: sometimes services request you to wait for data analysis"
   ]
  },
  {
   "cell_type": "code",
   "execution_count": null,
   "metadata": {
    "vscode": {
     "languageId": "r"
    }
   },
   "outputs": [],
   "source": []
  }
 ],
 "metadata": {
  "kernelspec": {
   "display_name": "R",
   "language": "R",
   "name": "ir"
  },
  "language_info": {
   "codemirror_mode": "r",
   "file_extension": ".r",
   "mimetype": "text/x-r-source",
   "name": "R",
   "pygments_lexer": "r",
   "version": "4.4.1"
  }
 },
 "nbformat": 4,
 "nbformat_minor": 2
}
