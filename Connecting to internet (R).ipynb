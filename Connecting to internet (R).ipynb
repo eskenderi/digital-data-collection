{
 "cells": [
  {
   "cell_type": "markdown",
   "metadata": {},
   "source": [
    "## Connecting to the Internet\n",
    "\n",
    "We use the httr2 library, see [its documentation](https://httr2.r-lib.org/) for further details."
   ]
  },
  {
   "cell_type": "code",
   "execution_count": 1,
   "metadata": {
    "vscode": {
     "languageId": "r"
    }
   },
   "outputs": [
    {
     "name": "stderr",
     "output_type": "stream",
     "text": [
      "Installing package into ‘/opt/homebrew/lib/R/4.4/site-library’\n",
      "(as ‘lib’ is unspecified)\n",
      "\n"
     ]
    }
   ],
   "source": [
    "install.packages(\"httr2\")"
   ]
  },
  {
   "cell_type": "code",
   "execution_count": 2,
   "metadata": {
    "vscode": {
     "languageId": "r"
    }
   },
   "outputs": [],
   "source": [
    "library(\"httr2\")"
   ]
  },
  {
   "cell_type": "code",
   "execution_count": 6,
   "metadata": {
    "vscode": {
     "languageId": "r"
    }
   },
   "outputs": [
    {
     "name": "stderr",
     "output_type": "stream",
     "text": [
      "\u001b[34m<httr2_response>\u001b[39m\n",
      "\n",
      "\u001b[1mGET\u001b[22m https://www.example.com/\n",
      "\n",
      "\u001b[32mStatus\u001b[39m: 200 OK\n",
      "\n",
      "\u001b[32mContent-Type\u001b[39m: text/html\n",
      "\n",
      "\u001b[32mBody\u001b[39m: In memory (1256 bytes)\n",
      "\n",
      "\u001b[34m<httr2_headers>\u001b[39m\n",
      "\n"
     ]
    },
    {
     "name": "stdout",
     "output_type": "stream",
     "text": [
      "\u001b[1mcontent-encoding\u001b[22m: gzip\n",
      "\u001b[1maccept-ranges\u001b[22m: bytes\n",
      "\u001b[1mage\u001b[22m: 144508\n",
      "\u001b[1mcache-control\u001b[22m: max-age=604800\n",
      "\u001b[1mcontent-type\u001b[22m: text/html; charset=UTF-8\n",
      "\u001b[1mdate\u001b[22m: Sat, 31 Aug 2024 10:50:47 GMT\n",
      "\u001b[1metag\u001b[22m: \"3147526947+gzip\"\n",
      "\u001b[1mexpires\u001b[22m: Sat, 07 Sep 2024 10:50:47 GMT\n",
      "\u001b[1mlast-modified\u001b[22m: Thu, 17 Oct 2019 07:18:26 GMT\n",
      "\u001b[1mserver\u001b[22m: ECAcc (dcd/7D23)\n",
      "\u001b[1mvary\u001b[22m: Accept-Encoding\n",
      "\u001b[1mx-cache\u001b[22m: HIT\n",
      "\u001b[1mcontent-length\u001b[22m: 648\n",
      "[1] \"<!doctype html>\\n<html>\\n<head>\\n    <title>Example Domain</title>\\n\\n    <meta charset=\\\"utf-8\\\" />\\n    <meta http-equiv=\\\"Content-type\\\" content=\\\"text/html; charset=utf-8\\\" />\\n    <meta name=\\\"viewport\\\" content=\\\"width=device-width, initial-scale=1\\\" />\\n    <style type=\\\"text/css\\\">\\n    body {\\n        background-color: #f0f0f2;\\n        margin: 0;\\n        padding: 0;\\n        font-family: -apple-system, system-ui, BlinkMacSystemFont, \\\"Segoe UI\\\", \\\"Open Sans\\\", \\\"Helvetica Neue\\\", Helvetica, Arial, sans-serif;\\n        \\n    }\\n    div {\\n        width: 600px;\\n        margin: 5em auto;\\n        padding: 2em;\\n        background-color: #fdfdff;\\n        border-radius: 0.5em;\\n        box-shadow: 2px 3px 7px 2px rgba(0,0,0,0.02);\\n    }\\n    a:link, a:visited {\\n        color: #38488f;\\n        text-decoration: none;\\n    }\\n    @media (max-width: 700px) {\\n        div {\\n            margin: 0 auto;\\n            width: auto;\\n        }\\n    }\\n    </style>    \\n</head>\\n\\n<body>\\n<div>\\n    <h1>Example Domain</h1>\\n    <p>This domain is for use in illustrative examples in documents. You may use this\\n    domain in literature without prior coordination or asking for permission.</p>\\n    <p><a href=\\\"https://www.iana.org/domains/example\\\">More information...</a></p>\\n</div>\\n</body>\\n</html>\\n\"\n"
     ]
    }
   ],
   "source": [
    "r = request(\"https://www.example.com\")\n",
    "response = req_perform( r ) \n",
    "print( response )\n",
    "print( resp_headers(response) )\n",
    "print( resp_body_string(response) )"
   ]
  },
  {
   "cell_type": "markdown",
   "metadata": {},
   "source": [
    "## JSON"
   ]
  },
  {
   "cell_type": "code",
   "execution_count": 7,
   "metadata": {
    "vscode": {
     "languageId": "r"
    }
   },
   "outputs": [
    {
     "name": "stderr",
     "output_type": "stream",
     "text": [
      "Installing package into ‘/opt/homebrew/lib/R/4.4/site-library’\n",
      "(as ‘lib’ is unspecified)\n",
      "\n"
     ]
    }
   ],
   "source": [
    "install.packages('jsonlite')\n",
    "library('jsonlite')"
   ]
  },
  {
   "cell_type": "code",
   "execution_count": 18,
   "metadata": {
    "vscode": {
     "languageId": "r"
    }
   },
   "outputs": [
    {
     "name": "stdout",
     "output_type": "stream",
     "text": [
      "$page\n",
      "[1] 1\n",
      "\n",
      "$per_page\n",
      "[1] 6\n",
      "\n",
      "$total\n",
      "[1] 12\n",
      "\n",
      "$total_pages\n",
      "[1] 2\n",
      "\n",
      "$data\n",
      "  id                    email first_name last_name\n",
      "1  1   george.bluth@reqres.in     George     Bluth\n",
      "2  2   janet.weaver@reqres.in      Janet    Weaver\n",
      "3  3      emma.wong@reqres.in       Emma      Wong\n",
      "4  4       eve.holt@reqres.in        Eve      Holt\n",
      "5  5 charles.morris@reqres.in    Charles    Morris\n",
      "6  6   tracey.ramos@reqres.in     Tracey     Ramos\n",
      "                                   avatar\n",
      "1 https://reqres.in/img/faces/1-image.jpg\n",
      "2 https://reqres.in/img/faces/2-image.jpg\n",
      "3 https://reqres.in/img/faces/3-image.jpg\n",
      "4 https://reqres.in/img/faces/4-image.jpg\n",
      "5 https://reqres.in/img/faces/5-image.jpg\n",
      "6 https://reqres.in/img/faces/6-image.jpg\n",
      "\n",
      "$support\n",
      "$support$url\n",
      "[1] \"https://reqres.in/#support-heading\"\n",
      "\n",
      "$support$text\n",
      "[1] \"To keep ReqRes free, contributions towards server costs are appreciated!\"\n",
      "\n",
      "\n",
      "  id                    email first_name last_name\n",
      "1  1   george.bluth@reqres.in     George     Bluth\n",
      "2  2   janet.weaver@reqres.in      Janet    Weaver\n",
      "3  3      emma.wong@reqres.in       Emma      Wong\n",
      "4  4       eve.holt@reqres.in        Eve      Holt\n",
      "5  5 charles.morris@reqres.in    Charles    Morris\n",
      "6  6   tracey.ramos@reqres.in     Tracey     Ramos\n",
      "                                   avatar\n",
      "1 https://reqres.in/img/faces/1-image.jpg\n",
      "2 https://reqres.in/img/faces/2-image.jpg\n",
      "3 https://reqres.in/img/faces/3-image.jpg\n",
      "4 https://reqres.in/img/faces/4-image.jpg\n",
      "5 https://reqres.in/img/faces/5-image.jpg\n",
      "6 https://reqres.in/img/faces/6-image.jpg\n"
     ]
    }
   ],
   "source": [
    "r = request(\"https://reqres.in/api/users\")\n",
    "response = req_perform( r )\n",
    "\n",
    "data = fromJSON( resp_body_string(response) )  ## we could just do resp_body_json(response)\n",
    "\n",
    "print( data )\n",
    "print( data$data )"
   ]
  },
  {
   "cell_type": "code",
   "execution_count": 23,
   "metadata": {
    "vscode": {
     "languageId": "r"
    }
   },
   "outputs": [
    {
     "name": "stdout",
     "output_type": "stream",
     "text": [
      "[1] \"george.bluth@reqres.in\"\n",
      "[1] \"janet.weaver@reqres.in\"\n",
      "[1] \"emma.wong@reqres.in\"\n",
      "[1] \"eve.holt@reqres.in\"\n",
      "[1] \"charles.morris@reqres.in\"\n",
      "[1] \"tracey.ramos@reqres.in\"\n"
     ]
    }
   ],
   "source": [
    "for( i in 1:nrow(data$data) ) {\n",
    "    print( data$data[i, 'email'] )\n",
    "}"
   ]
  },
  {
   "cell_type": "code",
   "execution_count": null,
   "metadata": {
    "vscode": {
     "languageId": "r"
    }
   },
   "outputs": [],
   "source": []
  }
 ],
 "metadata": {
  "kernelspec": {
   "display_name": "R",
   "language": "R",
   "name": "ir"
  },
  "language_info": {
   "codemirror_mode": "r",
   "file_extension": ".r",
   "mimetype": "text/x-r-source",
   "name": "R",
   "pygments_lexer": "r",
   "version": "4.4.1"
  }
 },
 "nbformat": 4,
 "nbformat_minor": 2
}
