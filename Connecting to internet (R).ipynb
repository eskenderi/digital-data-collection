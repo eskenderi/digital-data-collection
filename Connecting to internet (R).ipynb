{
 "cells": [
  {
   "cell_type": "markdown",
   "metadata": {},
   "source": [
    "## Connecting to the Internet\n",
    "\n",
    "We use the httr2 library, see [its documentation](https://httr2.r-lib.org/) for further details."
   ]
  },
  {
   "cell_type": "code",
   "execution_count": 1,
   "metadata": {
    "vscode": {
     "languageId": "r"
    }
   },
   "outputs": [
    {
     "name": "stdout",
     "output_type": "stream",
     "text": [
      "\n",
      "The downloaded binary packages are in\n",
      "\t/var/folders/24/4_cx6n7s63x3mxt5j884k6sw8hj9lm/T//RtmpsplfYT/downloaded_packages\n"
     ]
    }
   ],
   "source": [
    "install.packages(\"httr2\")"
   ]
  },
  {
   "cell_type": "code",
   "execution_count": 2,
   "metadata": {
    "vscode": {
     "languageId": "r"
    }
   },
   "outputs": [],
   "source": [
    "library(\"httr2\")"
   ]
  },
  {
   "cell_type": "code",
   "execution_count": 3,
   "metadata": {
    "vscode": {
     "languageId": "r"
    }
   },
   "outputs": [
    {
     "name": "stdout",
     "output_type": "stream",
     "text": [
      "\u001b[34m<httr2_response>\u001b[39m\n",
      "\u001b[1mGET\u001b[22m https://www.example.com/\n",
      "\u001b[32mStatus\u001b[39m: 200 OK\n",
      "\u001b[32mContent-Type\u001b[39m: text/html\n",
      "\u001b[32mBody\u001b[39m: In memory (1256 bytes)\n",
      "\u001b[34m<httr2_headers>\u001b[39m\n",
      "\u001b[1maccept-ranges\u001b[22m: bytes\n",
      "\u001b[1mcontent-type\u001b[22m: text/html\n",
      "\u001b[1metag\u001b[22m: \"84238dfc8092e5d9c0dac8ef93371a07:1736799080.121134\"\n",
      "\u001b[1mlast-modified\u001b[22m: Mon, 13 Jan 2025 20:11:20 GMT\n",
      "\u001b[1mvary\u001b[22m: Accept-Encoding\n",
      "\u001b[1mcontent-encoding\u001b[22m: gzip\n",
      "\u001b[1mcontent-length\u001b[22m: 648\n",
      "\u001b[1mcache-control\u001b[22m: max-age=3264\n",
      "\u001b[1mdate\u001b[22m: Thu, 04 Sep 2025 05:19:52 GMT\n",
      "\u001b[1malt-svc\u001b[22m: h3=\":443\"; ma=93600,h3-29=\":443\"; ma=93600\n",
      "[1] \"<!doctype html>\\n<html>\\n<head>\\n    <title>Example Domain</title>\\n\\n    <meta charset=\\\"utf-8\\\" />\\n    <meta http-equiv=\\\"Content-type\\\" content=\\\"text/html; charset=utf-8\\\" />\\n    <meta name=\\\"viewport\\\" content=\\\"width=device-width, initial-scale=1\\\" />\\n    <style type=\\\"text/css\\\">\\n    body {\\n        background-color: #f0f0f2;\\n        margin: 0;\\n        padding: 0;\\n        font-family: -apple-system, system-ui, BlinkMacSystemFont, \\\"Segoe UI\\\", \\\"Open Sans\\\", \\\"Helvetica Neue\\\", Helvetica, Arial, sans-serif;\\n        \\n    }\\n    div {\\n        width: 600px;\\n        margin: 5em auto;\\n        padding: 2em;\\n        background-color: #fdfdff;\\n        border-radius: 0.5em;\\n        box-shadow: 2px 3px 7px 2px rgba(0,0,0,0.02);\\n    }\\n    a:link, a:visited {\\n        color: #38488f;\\n        text-decoration: none;\\n    }\\n    @media (max-width: 700px) {\\n        div {\\n            margin: 0 auto;\\n            width: auto;\\n        }\\n    }\\n    </style>    \\n</head>\\n\\n<body>\\n<div>\\n    <h1>Example Domain</h1>\\n    <p>This domain is for use in illustrative examples in documents. You may use this\\n    domain in literature without prior coordination or asking for permission.</p>\\n    <p><a href=\\\"https://www.iana.org/domains/example\\\">More information...</a></p>\\n</div>\\n</body>\\n</html>\\n\"\n"
     ]
    }
   ],
   "source": [
    "r = request(\"https://www.example.com\")\n",
    "response = req_perform( r ) \n",
    "print( response )\n",
    "print( resp_headers(response) )\n",
    "print( resp_body_string(response) )"
   ]
  },
  {
   "cell_type": "markdown",
   "metadata": {},
   "source": [
    "## JSON"
   ]
  },
  {
   "cell_type": "code",
   "execution_count": 4,
   "metadata": {
    "vscode": {
     "languageId": "r"
    }
   },
   "outputs": [
    {
     "name": "stdout",
     "output_type": "stream",
     "text": [
      "\n",
      "The downloaded binary packages are in\n",
      "\t/var/folders/24/4_cx6n7s63x3mxt5j884k6sw8hj9lm/T//RtmpsplfYT/downloaded_packages\n"
     ]
    }
   ],
   "source": [
    "install.packages('jsonlite')\n",
    "library('jsonlite')"
   ]
  },
  {
   "cell_type": "code",
   "execution_count": 5,
   "metadata": {
    "vscode": {
     "languageId": "r"
    }
   },
   "outputs": [
    {
     "name": "stdout",
     "output_type": "stream",
     "text": [
      "$results\n",
      "  gender name.title name.first            name.last location.street.number\n",
      "1 female       Miss  Stephanie                Dunne                   3956\n",
      "2 female       Miss    Corinne             Stegeman                   6847\n",
      "3 female        Mrs       Orla       Van Maarseveen                   3989\n",
      "4   male         Mr     Topias              Pollari                   6692\n",
      "5 female         Ms       Afet Yal<U+00E7><U+0131>n                   5863\n",
      "6 female         Ms       Alex                 Cole                   7509\n",
      "  location.street.name location.city location.state location.country\n",
      "1          Cork Street        Tralee         Fingal          Ireland\n",
      "2          Juniperlaan         Ulrum      Groningen      Netherlands\n",
      "3            Kruiskade     Oldenzaal        Limburg      Netherlands\n",
      "4       Myllypuronkatu         Masku  North Karelia          Finland\n",
      "5       Anafartalar Cd         Adana   Mu<U+011F>la           Turkey\n",
      "6          Grange Road      Westport         Galway          Ireland\n",
      "  location.postcode location.coordinates.latitude\n",
      "1             50248                        3.8323\n",
      "2           4914 VM                      -44.4362\n",
      "3           4727 AS                        8.2740\n",
      "4             70535                       21.8762\n",
      "5             18242                      -21.2844\n",
      "6             94218                      -17.8675\n",
      "  location.coordinates.longitude location.timezone.offset\n",
      "1                        51.1967                    -2:00\n",
      "2                      -138.5879                    +4:00\n",
      "3                       -39.6644                    +1:00\n",
      "4                       -58.7561                   -12:00\n",
      "5                       138.6822                   +10:00\n",
      "6                        60.4623                    +7:00\n",
      "         location.timezone.description                          email\n",
      "1                         Mid-Atlantic    stephanie.dunne@example.com\n",
      "2     Abu Dhabi, Muscat, Baku, Tbilisi   corinne.stegeman@example.com\n",
      "3  Brussels, Copenhagen, Madrid, Paris orla.vanmaarseveen@example.com\n",
      "4                  Eniwetok, Kwajalein     topias.pollari@example.com\n",
      "5 Eastern Australia, Guam, Vladivostok        afet.yalcin@example.com\n",
      "6              Bangkok, Hanoi, Jakarta          alex.cole@example.com\n",
      "                            login.uuid    login.username login.password\n",
      "1 e30661e4-794b-4bb4-9767-44fe2308d5f4   lazyelephant340        gretzky\n",
      "2 d3163433-998c-43a9-aa0a-add691d42824   whitegorilla569       giovanni\n",
      "3 f68e8b53-e500-457c-ba23-e2e9774f47d8     whitezebra199         flight\n",
      "4 19487b72-7e27-4d7b-abda-76fa717925e8 happybutterfly186           omar\n",
      "5 5ef1b452-a3b7-4afa-b5b8-4e96469387d7     heavygoose840          zappa\n",
      "6 075542c5-17c3-4c0b-94eb-0a785a8bfa59     heavykoala824        jeffrey\n",
      "  login.salt                        login.md5\n",
      "1   MsQTQreD baec0d11ecedd6a0f5d784fb1b659edc\n",
      "2   f1siFiqH 559425cd22e3567cd71cd904e3dabfc6\n",
      "3   DKlw4Hx3 3adfea89417f23e1a6e69f2c84710e4f\n",
      "4   GT0OuLGb fa5dfff22c7712ab8abf1dea56617f27\n",
      "5   Agi5tmd8 f4cd43087af3a722731494dc2648c0c4\n",
      "6   asKt9sp1 76b04817f3d0412f2728448ae8ab5df3\n",
      "                                login.sha1\n",
      "1 25bbda0fcd5801937471d16ba01b582668b049a5\n",
      "2 8436eb7696f2cdf43dd8bb9ce9fc2325be09df95\n",
      "3 e995b1995f06ec2654e44c8866db4622dec29d22\n",
      "4 cb88985587f8d6ddb70c6ba756e759594b8a5ae8\n",
      "5 23041f960541e22ef71867f44a6b257c3731ea76\n",
      "6 098813ddee5f64f57837ea99d9f32d1888ee5a53\n",
      "                                                      login.sha256\n",
      "1 7f603162c27b2426093a6697d92a392c536582d787fddd5b48d10cfa722bd13b\n",
      "2 c8ed99f4e2ba459aab1204eaf4e09d9f9c92652acd1e4d3e80bd59fcaea5f50f\n",
      "3 f73fa9adf6a7b19f145ef0d6cc4ec0f6946b383fc978448d5c08018efae78208\n",
      "4 6fa7772c5220f52e6371c02cafcd46ec1ec5ba976242bfa526f950fe40785ac5\n",
      "5 8282bc15a7e6125739ec42210a9b40703497d038df99069de7a70ce096a80dd2\n",
      "6 d9a0753c7ef96c418727c0662dcf05ce6725557bc0bd346993a1c8f9421f6109\n",
      "                  dob.date dob.age          registered.date registered.age\n",
      "1 1999-03-01T23:57:20.034Z      26 2020-07-24T01:24:05.192Z              5\n",
      "2 1997-11-05T03:15:57.478Z      27 2013-01-30T16:14:22.211Z             12\n",
      "3 1985-05-10T03:58:21.491Z      40 2007-05-22T18:02:32.742Z             18\n",
      "4 1948-12-21T08:06:51.960Z      76 2017-01-29T20:23:13.666Z              8\n",
      "5 1951-01-11T14:43:41.088Z      74 2011-08-05T03:50:00.979Z             14\n",
      "6 1967-04-07T07:29:35.393Z      58 2017-07-16T12:34:46.927Z              8\n",
      "           phone           cell id.name          id.value\n",
      "1   021-058-3932   081-181-0322     PPS          2266581T\n",
      "2  (032) 8300347  (06) 39248563     BSN          05354641\n",
      "3  (0365) 295324  (06) 25484460     BSN          43321730\n",
      "4     04-951-073  043-487-94-82    HETU NaNNA635undefined\n",
      "5 (783)-410-0669 (391)-628-2449                      <NA>\n",
      "6   011-635-2113   081-679-1278     PPS          9847548T\n",
      "                                     picture.large\n",
      "1 https://randomuser.me/api/portraits/women/17.jpg\n",
      "2 https://randomuser.me/api/portraits/women/72.jpg\n",
      "3 https://randomuser.me/api/portraits/women/31.jpg\n",
      "4   https://randomuser.me/api/portraits/men/74.jpg\n",
      "5 https://randomuser.me/api/portraits/women/77.jpg\n",
      "6 https://randomuser.me/api/portraits/women/12.jpg\n",
      "                                        picture.medium\n",
      "1 https://randomuser.me/api/portraits/med/women/17.jpg\n",
      "2 https://randomuser.me/api/portraits/med/women/72.jpg\n",
      "3 https://randomuser.me/api/portraits/med/women/31.jpg\n",
      "4   https://randomuser.me/api/portraits/med/men/74.jpg\n",
      "5 https://randomuser.me/api/portraits/med/women/77.jpg\n",
      "6 https://randomuser.me/api/portraits/med/women/12.jpg\n",
      "                                       picture.thumbnail nat\n",
      "1 https://randomuser.me/api/portraits/thumb/women/17.jpg  IE\n",
      "2 https://randomuser.me/api/portraits/thumb/women/72.jpg  NL\n",
      "3 https://randomuser.me/api/portraits/thumb/women/31.jpg  NL\n",
      "4   https://randomuser.me/api/portraits/thumb/men/74.jpg  FI\n",
      "5 https://randomuser.me/api/portraits/thumb/women/77.jpg  TR\n",
      "6 https://randomuser.me/api/portraits/thumb/women/12.jpg  IE\n",
      "\n",
      "$info\n",
      "$info$seed\n",
      "[1] \"ee2ef99c196ba223\"\n",
      "\n",
      "$info$results\n",
      "[1] 6\n",
      "\n",
      "$info$page\n",
      "[1] 1\n",
      "\n",
      "$info$version\n",
      "[1] \"1.4\"\n",
      "\n",
      "\n",
      "  gender name.title name.first            name.last location.street.number\n",
      "1 female       Miss  Stephanie                Dunne                   3956\n",
      "2 female       Miss    Corinne             Stegeman                   6847\n",
      "3 female        Mrs       Orla       Van Maarseveen                   3989\n",
      "4   male         Mr     Topias              Pollari                   6692\n",
      "5 female         Ms       Afet Yal<U+00E7><U+0131>n                   5863\n",
      "6 female         Ms       Alex                 Cole                   7509\n",
      "  location.street.name location.city location.state location.country\n",
      "1          Cork Street        Tralee         Fingal          Ireland\n",
      "2          Juniperlaan         Ulrum      Groningen      Netherlands\n",
      "3            Kruiskade     Oldenzaal        Limburg      Netherlands\n",
      "4       Myllypuronkatu         Masku  North Karelia          Finland\n",
      "5       Anafartalar Cd         Adana   Mu<U+011F>la           Turkey\n",
      "6          Grange Road      Westport         Galway          Ireland\n",
      "  location.postcode location.coordinates.latitude\n",
      "1             50248                        3.8323\n",
      "2           4914 VM                      -44.4362\n",
      "3           4727 AS                        8.2740\n",
      "4             70535                       21.8762\n",
      "5             18242                      -21.2844\n",
      "6             94218                      -17.8675\n",
      "  location.coordinates.longitude location.timezone.offset\n",
      "1                        51.1967                    -2:00\n",
      "2                      -138.5879                    +4:00\n",
      "3                       -39.6644                    +1:00\n",
      "4                       -58.7561                   -12:00\n",
      "5                       138.6822                   +10:00\n",
      "6                        60.4623                    +7:00\n",
      "         location.timezone.description                          email\n",
      "1                         Mid-Atlantic    stephanie.dunne@example.com\n",
      "2     Abu Dhabi, Muscat, Baku, Tbilisi   corinne.stegeman@example.com\n",
      "3  Brussels, Copenhagen, Madrid, Paris orla.vanmaarseveen@example.com\n",
      "4                  Eniwetok, Kwajalein     topias.pollari@example.com\n",
      "5 Eastern Australia, Guam, Vladivostok        afet.yalcin@example.com\n",
      "6              Bangkok, Hanoi, Jakarta          alex.cole@example.com\n",
      "                            login.uuid    login.username login.password\n",
      "1 e30661e4-794b-4bb4-9767-44fe2308d5f4   lazyelephant340        gretzky\n",
      "2 d3163433-998c-43a9-aa0a-add691d42824   whitegorilla569       giovanni\n",
      "3 f68e8b53-e500-457c-ba23-e2e9774f47d8     whitezebra199         flight\n",
      "4 19487b72-7e27-4d7b-abda-76fa717925e8 happybutterfly186           omar\n",
      "5 5ef1b452-a3b7-4afa-b5b8-4e96469387d7     heavygoose840          zappa\n",
      "6 075542c5-17c3-4c0b-94eb-0a785a8bfa59     heavykoala824        jeffrey\n",
      "  login.salt                        login.md5\n",
      "1   MsQTQreD baec0d11ecedd6a0f5d784fb1b659edc\n",
      "2   f1siFiqH 559425cd22e3567cd71cd904e3dabfc6\n",
      "3   DKlw4Hx3 3adfea89417f23e1a6e69f2c84710e4f\n",
      "4   GT0OuLGb fa5dfff22c7712ab8abf1dea56617f27\n",
      "5   Agi5tmd8 f4cd43087af3a722731494dc2648c0c4\n",
      "6   asKt9sp1 76b04817f3d0412f2728448ae8ab5df3\n",
      "                                login.sha1\n",
      "1 25bbda0fcd5801937471d16ba01b582668b049a5\n",
      "2 8436eb7696f2cdf43dd8bb9ce9fc2325be09df95\n",
      "3 e995b1995f06ec2654e44c8866db4622dec29d22\n",
      "4 cb88985587f8d6ddb70c6ba756e759594b8a5ae8\n",
      "5 23041f960541e22ef71867f44a6b257c3731ea76\n",
      "6 098813ddee5f64f57837ea99d9f32d1888ee5a53\n",
      "                                                      login.sha256\n",
      "1 7f603162c27b2426093a6697d92a392c536582d787fddd5b48d10cfa722bd13b\n",
      "2 c8ed99f4e2ba459aab1204eaf4e09d9f9c92652acd1e4d3e80bd59fcaea5f50f\n",
      "3 f73fa9adf6a7b19f145ef0d6cc4ec0f6946b383fc978448d5c08018efae78208\n",
      "4 6fa7772c5220f52e6371c02cafcd46ec1ec5ba976242bfa526f950fe40785ac5\n",
      "5 8282bc15a7e6125739ec42210a9b40703497d038df99069de7a70ce096a80dd2\n",
      "6 d9a0753c7ef96c418727c0662dcf05ce6725557bc0bd346993a1c8f9421f6109\n",
      "                  dob.date dob.age          registered.date registered.age\n",
      "1 1999-03-01T23:57:20.034Z      26 2020-07-24T01:24:05.192Z              5\n",
      "2 1997-11-05T03:15:57.478Z      27 2013-01-30T16:14:22.211Z             12\n",
      "3 1985-05-10T03:58:21.491Z      40 2007-05-22T18:02:32.742Z             18\n",
      "4 1948-12-21T08:06:51.960Z      76 2017-01-29T20:23:13.666Z              8\n",
      "5 1951-01-11T14:43:41.088Z      74 2011-08-05T03:50:00.979Z             14\n",
      "6 1967-04-07T07:29:35.393Z      58 2017-07-16T12:34:46.927Z              8\n",
      "           phone           cell id.name          id.value\n",
      "1   021-058-3932   081-181-0322     PPS          2266581T\n",
      "2  (032) 8300347  (06) 39248563     BSN          05354641\n",
      "3  (0365) 295324  (06) 25484460     BSN          43321730\n",
      "4     04-951-073  043-487-94-82    HETU NaNNA635undefined\n",
      "5 (783)-410-0669 (391)-628-2449                      <NA>\n",
      "6   011-635-2113   081-679-1278     PPS          9847548T\n",
      "                                     picture.large\n",
      "1 https://randomuser.me/api/portraits/women/17.jpg\n",
      "2 https://randomuser.me/api/portraits/women/72.jpg\n",
      "3 https://randomuser.me/api/portraits/women/31.jpg\n",
      "4   https://randomuser.me/api/portraits/men/74.jpg\n",
      "5 https://randomuser.me/api/portraits/women/77.jpg\n",
      "6 https://randomuser.me/api/portraits/women/12.jpg\n",
      "                                        picture.medium\n",
      "1 https://randomuser.me/api/portraits/med/women/17.jpg\n",
      "2 https://randomuser.me/api/portraits/med/women/72.jpg\n",
      "3 https://randomuser.me/api/portraits/med/women/31.jpg\n",
      "4   https://randomuser.me/api/portraits/med/men/74.jpg\n",
      "5 https://randomuser.me/api/portraits/med/women/77.jpg\n",
      "6 https://randomuser.me/api/portraits/med/women/12.jpg\n",
      "                                       picture.thumbnail nat\n",
      "1 https://randomuser.me/api/portraits/thumb/women/17.jpg  IE\n",
      "2 https://randomuser.me/api/portraits/thumb/women/72.jpg  NL\n",
      "3 https://randomuser.me/api/portraits/thumb/women/31.jpg  NL\n",
      "4   https://randomuser.me/api/portraits/thumb/men/74.jpg  FI\n",
      "5 https://randomuser.me/api/portraits/thumb/women/77.jpg  TR\n",
      "6 https://randomuser.me/api/portraits/thumb/women/12.jpg  IE\n"
     ]
    }
   ],
   "source": [
    "# The ReqRes API now requires an API key, so let's use RandomUser API instead\n",
    "r = request(\"https://randomuser.me/api/?results=6\")\n",
    "response = req_perform( r )\n",
    "\n",
    "data = fromJSON( resp_body_string(response) )  ## we could just do resp_body_json(response)\n",
    "\n",
    "print( data )\n",
    "print( data$results )  # RandomUser API uses 'results' instead of 'data'"
   ]
  },
  {
   "cell_type": "raw",
   "metadata": {
    "vscode": {
     "languageId": "raw"
    }
   },
   "source": [
    "## Saving and Loading JSON Data\n",
    "\n",
    "We can save our API data to a JSON file and load it back later.\n"
   ]
  },
  {
   "cell_type": "code",
   "execution_count": null,
   "metadata": {
    "vscode": {
     "languageId": "r"
    }
   },
   "outputs": [],
   "source": [
    "# Save the data to a JSON file\n",
    "write_json(data, \"users_data.json\", pretty = TRUE)\n",
    "cat(\"Data saved to users_data.json\\n\")\n"
   ]
  },
  {
   "cell_type": "code",
   "execution_count": null,
   "metadata": {
    "vscode": {
     "languageId": "r"
    }
   },
   "outputs": [],
   "source": [
    "# Load the data back from the JSON file\n",
    "loaded_data = read_json(\"users_data.json\", simplifyVector = TRUE)\n",
    "cat(\"Data loaded from users_data.json\\n\")\n",
    "print(\"First user's email from loaded data:\")\n",
    "print(loaded_data$results[1, 'email'])\n"
   ]
  },
  {
   "cell_type": "code",
   "execution_count": 6,
   "metadata": {
    "vscode": {
     "languageId": "r"
    }
   },
   "outputs": [
    {
     "name": "stdout",
     "output_type": "stream",
     "text": [
      "[1] \"stephanie.dunne@example.com\"\n",
      "[1] \"corinne.stegeman@example.com\"\n",
      "[1] \"orla.vanmaarseveen@example.com\"\n",
      "[1] \"topias.pollari@example.com\"\n",
      "[1] \"afet.yalcin@example.com\"\n",
      "[1] \"alex.cole@example.com\"\n"
     ]
    }
   ],
   "source": [
    "for( i in 1:nrow(data$results) ) {\n",
    "    print( data$results[i, 'email'] )\n",
    "}"
   ]
  },
  {
   "cell_type": "code",
   "execution_count": null,
   "metadata": {
    "vscode": {
     "languageId": "r"
    }
   },
   "outputs": [],
   "source": []
  }
 ],
 "metadata": {
  "kernelspec": {
   "display_name": "R",
   "language": "R",
   "name": "ir"
  },
  "language_info": {
   "codemirror_mode": "r",
   "file_extension": ".r",
   "mimetype": "text/x-r-source",
   "name": "R",
   "pygments_lexer": "r",
   "version": "4.5.1"
  }
 },
 "nbformat": 4,
 "nbformat_minor": 2
}
