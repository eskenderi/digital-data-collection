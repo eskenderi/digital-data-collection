{
 "cells": [
  {
   "cell_type": "markdown",
   "metadata": {},
   "source": [
    "# Web scraping\n",
    "\n",
    "When there are no APIs, data can be collected from website directly using techniques such as web scraping. This means extracting from the HTML content directly. This can be text, images, or, links.\n",
    "\n",
    "To do this, one needs to parse HTML markup (text) into meaningful structure. In R [rvest](https://rvest.tidyverse.org/) is a popular library to work on HTML."
   ]
  },
  {
   "cell_type": "code",
   "execution_count": null,
   "metadata": {
    "vscode": {
     "languageId": "r"
    }
   },
   "outputs": [],
   "source": [
    "install.packages(\"rvest\")"
   ]
  },
  {
   "cell_type": "code",
   "execution_count": null,
   "metadata": {
    "vscode": {
     "languageId": "r"
    }
   },
   "outputs": [],
   "source": [
    "library(httr2)\n",
    "library(rvest)\n",
    "\n",
    "r = request(\"https://www.helsinki.fi\")\n",
    "response = req_perform( r ) \n",
    "website <- resp_body_string(response)\n",
    "\n",
    "parsed <- read_html(website)\n",
    "\n",
    "print(parsed)"
   ]
  },
  {
   "cell_type": "markdown",
   "metadata": {},
   "source": [
    "# Finding elements\n",
    "\n",
    "Command `html_nodes` can be used to find all spesific elements from the website, either using their tag, their ID or their CSS class, or combinations of these.\n",
    "It is also possible to nest these."
   ]
  },
  {
   "cell_type": "code",
   "execution_count": null,
   "metadata": {
    "vscode": {
     "languageId": "r"
    }
   },
   "outputs": [],
   "source": [
    "links <- html_nodes(parsed, \"a\")\n",
    "\n",
    "for (link in links) {\n",
    "  print(link)\n",
    "}"
   ]
  },
  {
   "cell_type": "code",
   "execution_count": null,
   "metadata": {
    "vscode": {
     "languageId": "r"
    }
   },
   "outputs": [],
   "source": [
    "texts <- html_nodes(parsed , \".paragraph\")\n",
    "\n",
    "for (text in texts) {\n",
    "  print(text)\n",
    "}"
   ]
  },
  {
   "cell_type": "code",
   "execution_count": null,
   "metadata": {
    "vscode": {
     "languageId": "r"
    }
   },
   "outputs": [],
   "source": [
    "texts <- html_nodes(parsed , \"#does not exists\")\n",
    "\n",
    "for (text in texts) {\n",
    "  print(text)\n",
    "}"
   ]
  },
  {
   "cell_type": "code",
   "execution_count": null,
   "metadata": {
    "vscode": {
     "languageId": "r"
    }
   },
   "outputs": [],
   "source": [
    "banners <-  html_nodes(parsed, \"[role='banner']\")\n",
    "\n",
    "for (banner in banners) {\n",
    "  print(banner)\n",
    "}"
   ]
  },
  {
   "cell_type": "code",
   "execution_count": null,
   "metadata": {
    "vscode": {
     "languageId": "r"
    }
   },
   "outputs": [],
   "source": [
    "## nested structure\n",
    "\n",
    "banner <-  html_node(parsed, \"[role='banner']\")\n",
    "\n",
    "links <- html_nodes(banner, \"a\")\n",
    "for (link in links) {\n",
    "    print(link)\n",
    "}"
   ]
  },
  {
   "cell_type": "markdown",
   "metadata": {},
   "source": [
    "## Attributes and content\n",
    "\n",
    "HTML tags have attributes and content and one can access them through parsing:"
   ]
  },
  {
   "cell_type": "code",
   "execution_count": null,
   "metadata": {
    "vscode": {
     "languageId": "r"
    }
   },
   "outputs": [],
   "source": [
    "links <- html_nodes(parsed, \"a\")\n",
    "\n",
    "for (link in links) {\n",
    "  href <-  html_attr(link, \"href\")\n",
    "  text <- html_text( link )\n",
    "  print(paste(href, text))\n",
    "}"
   ]
  },
  {
   "cell_type": "markdown",
   "metadata": {},
   "source": [
    "## Tasks\n",
    "\n",
    "1. Find all links on Yle.fi main page. What amount of them starts with http?\n",
    "1. Find all images on Yle.fi and print their URLs\n",
    "1. Go through all Finnish university web frontpages. Which of them have have a link to (a) Facebook, (b) TikTok or (c) X?\n",
    "1. Extract the text of a single article on Yle.fi\n",
    "1. Extract the text of a single article on HS.fi\n",
    "1. Extract the text of a single news article on Helsinki.fi\n",
    "1. Extract the text of a single news article on Aamulehti.fi\n",
    "1. Extract the text of a single news article on BBC.com\n",
    "1. Extract the text of a single news article on New York Times"
   ]
  },
  {
   "cell_type": "markdown",
   "metadata": {},
   "source": [
    "# XPath\n",
    "\n",
    "There is a [dedicated query language](https://en.wikipedia.org/wiki/XPath) to work with HTML/XML structured documents, you can copy the exact queries from the browser developer tools.\n",
    "This requires parsing and working with the library using lxml library."
   ]
  },
  {
   "cell_type": "code",
   "execution_count": null,
   "metadata": {
    "vscode": {
     "languageId": "r"
    }
   },
   "outputs": [],
   "source": [
    "library(xml2)\n",
    "\n",
    "dom <- read_html(website)\n",
    "\n",
    "links <- xml_find_all(dom, \"//a\")\n",
    "\n",
    "for (link in links) {\n",
    "  href <- xml_attr(link, \"href\")\n",
    "  text <- xml_text(link)\n",
    "  print(paste(href, text))\n",
    "}"
   ]
  },
  {
   "cell_type": "markdown",
   "metadata": {},
   "source": []
  },
  {
   "cell_type": "markdown",
   "metadata": {},
   "source": [
    "# Following links, crawlers and spiders\n",
    "\n",
    "Sometimes there is a need to follow links, for example identify follow-up pages and crawl the content on them as well.\n",
    "On most simples format, one can detect links and open them.\n",
    "There are also spesific libraries for this purpose, such as Python [Scrapy](https://docs.scrapy.org/en/latest/)."
   ]
  },
  {
   "cell_type": "code",
   "execution_count": null,
   "metadata": {
    "vscode": {
     "languageId": "r"
    }
   },
   "outputs": [],
   "source": [
    "site = \"https://www.helsinki.fi\"\n",
    "r = request(site)\n",
    "response = req_perform( r ) \n",
    "website <- resp_body_string(response)\n",
    "\n",
    "parsed <- read_html(website)\n",
    "\n",
    "links <- html_nodes(parsed, \"a\")\n",
    "\n",
    "for (link in links) {\n",
    "  href <- html_attr(link, \"href\")\n",
    "  \n",
    "  if ( startsWith(href, \"/\") ) {\n",
    "    full_url <- paste0(site, href)\n",
    "    print(full_url)\n",
    "    \n",
    "    r2 = request( full_url )\n",
    "    response2 = req_perform( r2 ) \n",
    "    website2 <- resp_body_string(response2)\n",
    "    # You can process html2 further if needed\n",
    "  }\n",
    "}"
   ]
  },
  {
   "cell_type": "markdown",
   "metadata": {},
   "source": [
    "## Tasks\n",
    "\n",
    "* Fix the above code to work correctly, i.e. manage the Nonetype challenge\n",
    "* Collect all links which are not in the same domain\n",
    "* Parse collected websites and calculate the times `cat` is mentioned throughout them."
   ]
  },
  {
   "cell_type": "code",
   "execution_count": null,
   "metadata": {
    "vscode": {
     "languageId": "r"
    }
   },
   "outputs": [],
   "source": [
    "## Scrapy only for Python"
   ]
  },
  {
   "cell_type": "markdown",
   "metadata": {},
   "source": [
    "## Task\n",
    "\n",
    "* Adapt the scrapy parser to work on HS.fi"
   ]
  }
 ],
 "metadata": {
  "kernelspec": {
   "display_name": "R",
   "language": "R",
   "name": "ir"
  },
  "language_info": {
   "codemirror_mode": "r",
   "file_extension": ".r",
   "mimetype": "text/x-r-source",
   "name": "R",
   "pygments_lexer": "r",
   "version": "4.4.1"
  }
 },
 "nbformat": 4,
 "nbformat_minor": 2
}
