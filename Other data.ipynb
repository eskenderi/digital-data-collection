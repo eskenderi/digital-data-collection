{
 "cells": [
  {
   "cell_type": "markdown",
   "metadata": {},
   "source": [
    "# Tasks\n",
    "\n",
    "1. From your social media export, calculate how many things you did in August 2024?\n",
    "1. Export your browser history and calculate the number of different domains\n",
    "1. How many steps on avarage Matti took in 2024?\n",
    "1. Any issues with the data collection?"
   ]
  },
  {
   "cell_type": "code",
   "execution_count": null,
   "metadata": {},
   "outputs": [],
   "source": []
  }
 ],
 "metadata": {
  "language_info": {
   "name": "python"
  }
 },
 "nbformat": 4,
 "nbformat_minor": 2
}
