{
 "cells": [
  {
   "cell_type": "markdown",
   "metadata": {},
   "source": [
    "# Tasks\n",
    "\n",
    "1. From your data export on any social media of your choice, calculate how many things you did during 2024?\n",
    "1. Export your browser history (e.g using Export Chrome History Chrome Extension) and calculate the number of different domains visited.\n",
    "1. Talk about any issues you face with the data collection?"
   ]
  },
  {
   "cell_type": "code",
   "execution_count": null,
   "metadata": {},
   "outputs": [],
   "source": []
  }
 ],
 "metadata": {
  "language_info": {
   "name": "python"
  }
 },
 "nbformat": 4,
 "nbformat_minor": 2
}
